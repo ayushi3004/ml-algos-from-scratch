{
  "nbformat": 4,
  "nbformat_minor": 0,
  "metadata": {
    "colab": {
      "name": "MulticlassLR.ipynb",
      "provenance": [],
      "collapsed_sections": []
    },
    "kernelspec": {
      "name": "python3",
      "display_name": "Python 3"
    }
  },
  "cells": [
    {
      "cell_type": "code",
      "metadata": {
        "id": "XcOzlTcjWUOL",
        "colab_type": "code",
        "colab": {}
      },
      "source": [
        "import pandas as pd\n",
        "import numpy as np\n",
        "from sklearn import datasets\n",
        "from sklearn.model_selection import train_test_split "
      ],
      "execution_count": 0,
      "outputs": []
    },
    {
      "cell_type": "code",
      "metadata": {
        "id": "P28BSlB8fe06",
        "colab_type": "code",
        "colab": {}
      },
      "source": [
        "def sigmoid(X, coeff):\n",
        "#   sigmoid function\n",
        "    dot = np.dot(X, coeff)\n",
        "    sig = 1.0/(1 + np.exp(-dot)) \n",
        "    return sig"
      ],
      "execution_count": 0,
      "outputs": []
    },
    {
      "cell_type": "code",
      "metadata": {
        "id": "vorU_I0kZ1II",
        "colab_type": "code",
        "colab": {}
      },
      "source": [
        "# Feature scaling\n",
        "def mean(a):\n",
        "  mean = float(np.mean(a))\n",
        "  func = np.vectorize(lambda t: t - mean)\n",
        "  return func(a)\n",
        "\n",
        "def std_var(a):\n",
        "  std = float(np.std(a))\n",
        "  func = np.vectorize(lambda t: t / std)\n",
        "  return func(a)\n",
        "\n",
        "def feature_scaling(X):\n",
        "  X = np.apply_along_axis(mean, 0, X)\n",
        "  X = np.apply_along_axis(std_var, 0, X)\n",
        "  return X"
      ],
      "execution_count": 0,
      "outputs": []
    },
    {
      "cell_type": "code",
      "metadata": {
        "id": "DzboK392Wc0p",
        "colab_type": "code",
        "colab": {}
      },
      "source": [
        "def normalizeX(X):\n",
        "#   Change as per notation to get: w0x0 + w1x1 + w2x2 + ...\n",
        "# i.e. add an extra feature vector x0 for bias\n",
        "# Also do feature scaling\n",
        "  shape = (X.shape[0], 1)\n",
        "  \n",
        "  newX = feature_scaling(X)\n",
        "  newX = np.hstack((np.ones(shape), newX))\n",
        "  \n",
        "  return newX"
      ],
      "execution_count": 0,
      "outputs": []
    },
    {
      "cell_type": "code",
      "metadata": {
        "id": "wd_mWBUOWeMX",
        "colab_type": "code",
        "colab": {}
      },
      "source": [
        "# To find theta: Gradient descent\n",
        "def gradient(X, y, theta):\n",
        "  m = y.shape[0]\n",
        "  sig = sigmoid(X, theta) \n",
        "  loss = sig - y\n",
        "  grad =  1/m * np.dot(X.T, loss)\n",
        "  return grad \n",
        "\n",
        "def cost_function(X, y, theta):\n",
        "  sig = sigmoid(X, theta) \n",
        "  c1 = y * np.log(sig) \n",
        "  c2 = (1 - y) * np.log(1 - sig) \n",
        "  final = -c1 - c2 \n",
        "  me = np.mean(final)\n",
        "  return me\n",
        "\n",
        "def gradient_descent(X, y, coeff, learning_rate = 0.01, min_cost_change = 0.0001, max_epochs = 50000):\n",
        "  epoch = 1 \n",
        "  current_cost = cost_function(X, y, coeff) \n",
        "  cost_change = learning_rate\n",
        "\n",
        "  while cost_change > min_cost_change and epoch < max_epochs:\n",
        "    prev_cost = current_cost\n",
        "    grad = gradient(X, y, coeff)\n",
        "    coeff = coeff - (learning_rate * grad) \n",
        "    current_cost = cost_function(X, y, coeff) \n",
        "    cost_change = prev_cost - current_cost\n",
        "    epoch += 1\n",
        "  \n",
        "  return coeff, epoch "
      ],
      "execution_count": 0,
      "outputs": []
    },
    {
      "cell_type": "code",
      "metadata": {
        "id": "zvcu8zf5WgFh",
        "colab_type": "code",
        "colab": {}
      },
      "source": [
        "def sig_under_threshold(X, coeff):\n",
        "  sig = sigmoid(X, coeff)\n",
        "  return np.where(sig >= 0.5, sig, float(\"-inf\")) \n",
        "  \n",
        "def predict_y(X, coeff_list): \n",
        "    prob_mat = sig_under_threshold(X, coeff_list[0])\n",
        "    prob_mat = np.hstack((prob_mat, sig_under_threshold(X, coeff_list[1])))\n",
        "    prob_mat = np.hstack((prob_mat, sig_under_threshold(X, coeff_list[2])))\n",
        "\n",
        "    max_prob = np.argmax(prob_mat, 1)\n",
        "    return max_prob"
      ],
      "execution_count": 0,
      "outputs": []
    },
    {
      "cell_type": "code",
      "metadata": {
        "id": "GqZOMQ0pWiVA",
        "colab_type": "code",
        "colab": {}
      },
      "source": [
        "if __name__ == \"__main__\":\n",
        "  dataset = datasets.load_iris()\n",
        "  X = dataset.data \n",
        "  y = dataset.target\n",
        "  \n",
        "  X_train, X_test, y_train, y_test = train_test_split(X, y, test_size=0.3, stratify = y) \n",
        "  X_train = normalizeX(X_train)\n",
        "\n",
        "  y0_train = np.array(y_train == 0, dtype= int).reshape((-1,1))\n",
        "  y1_train = np.array(y_train == 1, dtype= int).reshape((-1,1))\n",
        "  y2_train = np.array(y_train == 2, dtype= int).reshape((-1,1))\n",
        "  \n",
        "  y_train_all = [y0_train, y1_train, y2_train]\n",
        "  \n",
        "#   Initial values\n",
        "  coeff_list = []\n",
        "  classes = [0, 1, 2]\n",
        "  for cl in classes:\n",
        "    coeff = np.zeros((X_train.shape[1], 1))\n",
        "    coeff, epoch = gradient_descent(X_train, y_train_all[cl], coeff)\n",
        "    coeff_list.append(coeff)\n"
      ],
      "execution_count": 0,
      "outputs": []
    },
    {
      "cell_type": "code",
      "metadata": {
        "id": "vJ38aX81YBTj",
        "colab_type": "code",
        "colab": {}
      },
      "source": [
        "X_test = normalizeX(X_test)\n",
        "y_estimate = predict_y(X_test, coeff_list)"
      ],
      "execution_count": 0,
      "outputs": []
    },
    {
      "cell_type": "code",
      "metadata": {
        "id": "6HbSjErpgV48",
        "colab_type": "code",
        "outputId": "a057bcc3-8489-43ef-d2bd-86d50543f8ae",
        "colab": {
          "base_uri": "https://localhost:8080/",
          "height": 34
        }
      },
      "source": [
        "y_true = y_test\n",
        "accuracy = np.sum(y_true == y_estimate)/len(y_true)\n",
        "print(\"Accuracy:\", accuracy)"
      ],
      "execution_count": 0,
      "outputs": [
        {
          "output_type": "stream",
          "text": [
            "Accuracy: 0.7777777777777778\n"
          ],
          "name": "stdout"
        }
      ]
    },
    {
      "cell_type": "code",
      "metadata": {
        "id": "q__IBUu18KsO",
        "colab_type": "code",
        "colab": {}
      },
      "source": [
        "y_true = y_test\n",
        "def true_pos(y, y_pred):\n",
        "    return np.sum((y == 1) & (y_pred == 1))\n",
        "\n",
        "def true_neg(y, y_pred):\n",
        "    return np.sum((y == 0) & (y_pred == 0))"
      ],
      "execution_count": 0,
      "outputs": []
    },
    {
      "cell_type": "code",
      "metadata": {
        "id": "cn3XEjufd1ji",
        "colab_type": "code",
        "outputId": "d951d1bd-cf81-4383-9571-73d0f61c50c3",
        "colab": {
          "base_uri": "https://localhost:8080/",
          "height": 34
        }
      },
      "source": [
        "from sklearn.linear_model import LogisticRegression\n",
        "\n",
        "X2_train, X2_test, y2_train, y2_test = train_test_split(X, y, test_size=0.4) \n",
        "model = LogisticRegression(solver = 'lbfgs', max_iter=50000, multi_class='multinomial')\n",
        "model.fit(X, y)\n",
        "y2_pred = model.predict(X2_train)\n",
        "accuracy2 = (true_pos(y2_train, y2_pred) + true_neg(y2_train, y2_pred))/len(y2_train)\n",
        "print(accuracy2)"
      ],
      "execution_count": 0,
      "outputs": [
        {
          "output_type": "stream",
          "text": [
            "0.7\n"
          ],
          "name": "stdout"
        }
      ]
    },
    {
      "cell_type": "code",
      "metadata": {
        "id": "z6O6j0T08Dry",
        "colab_type": "code",
        "colab": {}
      },
      "source": [
        ""
      ],
      "execution_count": 0,
      "outputs": []
    }
  ]
}