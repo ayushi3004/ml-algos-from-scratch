{
 "cells": [
  {
   "cell_type": "code",
   "execution_count": 22,
   "metadata": {},
   "outputs": [],
   "source": [
    "import numpy as np\n",
    "\n",
    "y = np.array([0, 1, 1, 0, 1, 0, 1, 0, 1, 1])\n",
    "y_pred = np.array([1, 1, 1, 1, 0, 0, 1, 1, 1, 1])"
   ]
  },
  {
   "cell_type": "code",
   "execution_count": 29,
   "metadata": {},
   "outputs": [],
   "source": [
    "def true_pos(y, y_pred):\n",
    "    return np.sum((y == 1) & (y_pred == 1))\n",
    "def true_neg(y, y_pred):\n",
    "    return np.sum((y == 0) & (y_pred == 0))\n",
    "def false_pos(y, y_pred):\n",
    "    return np.sum((y == 0) & (y_pred == 1))\n",
    "def false_neg(y, y_pred):\n",
    "    return np.sum((y == 1) & (y_pred == 0))"
   ]
  },
  {
   "cell_type": "code",
   "execution_count": 55,
   "metadata": {},
   "outputs": [
    {
     "name": "stdout",
     "output_type": "stream",
     "text": [
      "Accuracy: 0.6\n",
      "Precision: 0.625\n",
      "Recall: 0.8333333333333334\n"
     ]
    }
   ],
   "source": [
    "#Accuracy - how many correctly identified(whether 0 or 1)\n",
    "accuracy = (true_pos(y, y_pred) + true_neg(y, y_pred))/len(y)\n",
    "print(\"Accuracy:\", accuracy)\n",
    "\n",
    "# Precision - how many predicted positive are actually correct from all positives predicted\n",
    "precision = true_pos(y, y_pred)/(true_pos(y, y_pred)+false_pos(y, y_pred))\n",
    "print(\"Precision:\", precision)\n",
    "\n",
    "# Recall - positives predicted correctly from all actually positive\n",
    "recall = true_pos(y, y_pred)/(true_pos(y, y_pred) + false_neg(y, y_pred))\n",
    "print(\"Recall:\", recall)"
   ]
  },
  {
   "cell_type": "code",
   "execution_count": 59,
   "metadata": {},
   "outputs": [
    {
     "name": "stdout",
     "output_type": "stream",
     "text": [
      "              precision    recall  f1-score   support\n",
      "\n",
      "           0       0.50      0.25      0.33         4\n",
      "           1       0.62      0.83      0.71         6\n",
      "\n",
      "    accuracy                           0.60        10\n",
      "   macro avg       0.56      0.54      0.52        10\n",
      "weighted avg       0.57      0.60      0.56        10\n",
      "\n",
      "Accuracy: 0.6\n",
      "Precision: 0.6\n",
      "Recall: 0.6\n"
     ]
    }
   ],
   "source": [
    "# Using scikit\n",
    "from sklearn.metrics import classification_report\n",
    "from sklearn.metrics import precision_score, recall_score, accuracy_score\n",
    "\n",
    "print(classification_report(y, y_pred))\n",
    "print(\"Accuracy:\", accuracy_score(y, y_pred))\n",
    "print(\"Precision:\", precision_score(y, y_pred, average='micro'))\n",
    "print(\"Recall:\", recall_score(y, y_pred, average = 'micro'))"
   ]
  },
  {
   "cell_type": "code",
   "execution_count": null,
   "metadata": {},
   "outputs": [],
   "source": []
  }
 ],
 "metadata": {
  "kernelspec": {
   "display_name": "Python 3",
   "language": "python",
   "name": "python3"
  },
  "language_info": {
   "codemirror_mode": {
    "name": "ipython",
    "version": 3
   },
   "file_extension": ".py",
   "mimetype": "text/x-python",
   "name": "python",
   "nbconvert_exporter": "python",
   "pygments_lexer": "ipython3",
   "version": "3.7.3"
  }
 },
 "nbformat": 4,
 "nbformat_minor": 2
}